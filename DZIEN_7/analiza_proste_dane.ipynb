{
 "cells":[
  {
   "cell_type":"code",
   "source":[
    "import numpy as np\n",
    "import pandas as pd\n",
    "from scipy import stats\n",
    "import matplotlib.pyplot as plt"
   ],
   "execution_count":2,
   "outputs":[],
   "metadata":{
    "datalore":{
     "node_id":"4lGQ9JFF5YgiZDBBMC4wNX",
     "type":"CODE",
     "hide_input_from_viewers":true,
     "hide_output_from_viewers":true
    }
   }
  },
  {
   "cell_type":"code",
   "source":[
    "#dane syntetyczne\n",
    "np.random.seed(42)\n",
    "n=100\n",
    "data = {\n",
    "    \"student_id\": np.arange(1,n+1),\n",
    "    \"score_math\": np.random.normal(70,10,n),\n",
    "    \"score_english\":np.random.normal(65,12,n)\n",
    "}"
   ],
   "execution_count":3,
   "outputs":[],
   "metadata":{
    "datalore":{
     "node_id":"41Oc2x7jofD5YJJpj47dcp",
     "type":"CODE",
     "hide_input_from_viewers":true,
     "hide_output_from_viewers":true
    }
   }
  },
  {
   "cell_type":"code",
   "source":[
    "data"
   ],
   "execution_count":4,
   "outputs":[
    {
     "data":{
      "text\/plain":[
       "{'student_id': array([  1,   2,   3,   4,   5,   6,   7,   8,   9,  10,  11,  12,  13,\n",
       "         14,  15,  16,  17,  18,  19,  20,  21,  22,  23,  24,  25,  26,\n",
       "         27,  28,  29,  30,  31,  32,  33,  34,  35,  36,  37,  38,  39,\n",
       "         40,  41,  42,  43,  44,  45,  46,  47,  48,  49,  50,  51,  52,\n",
       "         53,  54,  55,  56,  57,  58,  59,  60,  61,  62,  63,  64,  65,\n",
       "         66,  67,  68,  69,  70,  71,  72,  73,  74,  75,  76,  77,  78,\n",
       "         79,  80,  81,  82,  83,  84,  85,  86,  87,  88,  89,  90,  91,\n",
       "         92,  93,  94,  95,  96,  97,  98,  99, 100]),\n",
       " 'score_math': array([74.96714153, 68.61735699, 76.47688538, 85.23029856, 67.65846625,\n",
       "        67.65863043, 85.79212816, 77.67434729, 65.30525614, 75.42560044,\n",
       "        65.36582307, 65.34270246, 72.41962272, 50.86719755, 52.75082167,\n",
       "        64.37712471, 59.8716888 , 73.14247333, 60.91975924, 55.87696299,\n",
       "        84.65648769, 67.742237  , 70.67528205, 55.75251814, 64.55617275,\n",
       "        71.1092259 , 58.49006423, 73.75698018, 63.9936131 , 67.0830625 ,\n",
       "        63.98293388, 88.52278185, 69.86502775, 59.42289071, 78.22544912,\n",
       "        57.7915635 , 72.08863595, 50.40329876, 56.71813951, 71.96861236,\n",
       "        77.3846658 , 71.71368281, 68.84351718, 66.98896304, 55.2147801 ,\n",
       "        62.80155792, 65.39361229, 80.57122226, 73.4361829 , 52.36959845,\n",
       "        73.24083969, 66.1491772 , 63.23078   , 76.11676289, 80.30999522,\n",
       "        79.31280119, 61.60782477, 66.90787624, 73.31263431, 79.75545127,\n",
       "        65.20825762, 68.14341023, 58.93665026, 58.03793376, 78.12525822,\n",
       "        83.56240029, 69.27989878, 80.03532898, 73.61636025, 63.54880245,\n",
       "        73.61395606, 85.38036566, 69.64173961, 85.64643656, 43.80254896,\n",
       "        78.21902504, 70.87047068, 67.0099265 , 70.91760777, 50.12431085,\n",
       "        67.80328112, 73.57112572, 84.77894045, 64.81729782, 61.91506397,\n",
       "        64.98242956, 79.15402118, 73.2875111 , 64.70239796, 75.13267433,\n",
       "        70.97077549, 79.68644991, 62.97946906, 66.72337853, 66.07891847,\n",
       "        55.36485052, 72.96120277, 72.61055272, 70.05113457, 67.65412867]),\n",
       " 'score_english': array([48.0155511 , 59.95225613, 60.8874258 , 55.37267277, 63.06457146,\n",
       "        69.84861028, 87.63423081, 67.09493375, 68.09060469, 64.10664901,\n",
       "        41.97474542, 64.68183349, 65.72276252, 94.55890535, 62.69166842,\n",
       "        68.61856811, 64.58345876, 50.97586355, 78.71387377, 74.02319639,\n",
       "        74.49238336, 54.08735054, 81.83353173, 48.17778725, 72.04228513,\n",
       "        91.28546751, 53.1135641 , 58.20442724, 66.19581638, 58.95829215,\n",
       "        46.39203883, 65.8227557 , 52.25235544, 70.68310917, 53.96690919,\n",
       "        83.59921286, 55.60096049, 61.13526181, 74.76220661, 50.2296282 ,\n",
       "        67.72951922, 80.68571305, 45.71020119, 67.2156063 , 68.11859353,\n",
       "        74.38187446, 50.15659147, 49.15452064, 71.26329879, 68.56381608,\n",
       "        68.0059142 , 69.15737851, 56.83970334, 67.78704437, 68.51686968,\n",
       "        56.42778298, 87.38929413, 70.68599505, 50.70435803, 72.8786433 ,\n",
       "        53.30381996, 74.44501524, 78.90314695, 55.15181218, 76.56051355,\n",
       "        69.95337112, 74.86472192, 87.76151579, 62.05534261, 55.95516603,\n",
       "        54.32582684, 55.21027658, 64.07477949, 69.0938237 , 68.32028959,\n",
       "        74.92619899, 65.1560227 , 82.44240893, 61.824118  , 97.64203   ,\n",
       "        72.50800817, 54.71410932, 52.14929002, 70.78966898, 62.31844658,\n",
       "        73.56800593, 70.67885149, 64.12605305, 54.83847538, 46.8218333 ,\n",
       "        59.64182058, 75.27678553, 67.56912493, 50.05113466, 67.07817111,\n",
       "        69.62380856, 54.39371077, 66.84470127, 65.69850462, 51.28435643])}"
      ]
     },
     "metadata":{},
     "output_type":"display_data"
    }
   ],
   "metadata":{
    "datalore":{
     "node_id":"sACW0omCVjuHt77nqy1Qkd",
     "type":"CODE",
     "hide_input_from_viewers":true,
     "hide_output_from_viewers":true
    }
   }
  },
  {
   "cell_type":"code",
   "source":[
    "df = pd.DataFrame(data)"
   ],
   "execution_count":5,
   "outputs":[],
   "metadata":{
    "datalore":{
     "node_id":"SZHgNGaeEbeo5SlswPXz6d",
     "type":"CODE",
     "hide_input_from_viewers":true,
     "hide_output_from_viewers":true
    }
   }
  },
  {
   "cell_type":"code",
   "source":[
    "df.head(8)"
   ],
   "execution_count":7,
   "outputs":[
    {
     "data":{
      "text\/html":[
       "<div>\n",
       "<style scoped>\n",
       "    .dataframe tbody tr th:only-of-type {\n",
       "        vertical-align: middle;\n",
       "    }\n",
       "\n",
       "    .dataframe tbody tr th {\n",
       "        vertical-align: top;\n",
       "    }\n",
       "\n",
       "    .dataframe thead th {\n",
       "        text-align: right;\n",
       "    }\n",
       "<\/style>\n",
       "<table border=\"1\" class=\"dataframe\">\n",
       "  <thead>\n",
       "    <tr style=\"text-align: right;\">\n",
       "      <th><\/th>\n",
       "      <th>student_id<\/th>\n",
       "      <th>score_math<\/th>\n",
       "      <th>score_english<\/th>\n",
       "    <\/tr>\n",
       "  <\/thead>\n",
       "  <tbody>\n",
       "    <tr>\n",
       "      <th>0<\/th>\n",
       "      <td>1<\/td>\n",
       "      <td>74.967142<\/td>\n",
       "      <td>48.015551<\/td>\n",
       "    <\/tr>\n",
       "    <tr>\n",
       "      <th>1<\/th>\n",
       "      <td>2<\/td>\n",
       "      <td>68.617357<\/td>\n",
       "      <td>59.952256<\/td>\n",
       "    <\/tr>\n",
       "    <tr>\n",
       "      <th>2<\/th>\n",
       "      <td>3<\/td>\n",
       "      <td>76.476885<\/td>\n",
       "      <td>60.887426<\/td>\n",
       "    <\/tr>\n",
       "    <tr>\n",
       "      <th>3<\/th>\n",
       "      <td>4<\/td>\n",
       "      <td>85.230299<\/td>\n",
       "      <td>55.372673<\/td>\n",
       "    <\/tr>\n",
       "    <tr>\n",
       "      <th>4<\/th>\n",
       "      <td>5<\/td>\n",
       "      <td>67.658466<\/td>\n",
       "      <td>63.064571<\/td>\n",
       "    <\/tr>\n",
       "    <tr>\n",
       "      <th>5<\/th>\n",
       "      <td>6<\/td>\n",
       "      <td>67.658630<\/td>\n",
       "      <td>69.848610<\/td>\n",
       "    <\/tr>\n",
       "    <tr>\n",
       "      <th>6<\/th>\n",
       "      <td>7<\/td>\n",
       "      <td>85.792128<\/td>\n",
       "      <td>87.634231<\/td>\n",
       "    <\/tr>\n",
       "    <tr>\n",
       "      <th>7<\/th>\n",
       "      <td>8<\/td>\n",
       "      <td>77.674347<\/td>\n",
       "      <td>67.094934<\/td>\n",
       "    <\/tr>\n",
       "  <\/tbody>\n",
       "<\/table>\n",
       "<\/div>"
      ]
     },
     "metadata":{},
     "output_type":"display_data"
    }
   ],
   "metadata":{
    "datalore":{
     "node_id":"AvHK8hXNTf7TLnUqkwSgfn",
     "type":"CODE",
     "hide_input_from_viewers":true,
     "hide_output_from_viewers":true
    }
   }
  },
  {
   "cell_type":"code",
   "source":[
    "#statystyki opisowe\n",
    "df.describe()"
   ],
   "execution_count":8,
   "outputs":[
    {
     "data":{
      "text\/html":[
       "<div>\n",
       "<style scoped>\n",
       "    .dataframe tbody tr th:only-of-type {\n",
       "        vertical-align: middle;\n",
       "    }\n",
       "\n",
       "    .dataframe tbody tr th {\n",
       "        vertical-align: top;\n",
       "    }\n",
       "\n",
       "    .dataframe thead th {\n",
       "        text-align: right;\n",
       "    }\n",
       "<\/style>\n",
       "<table border=\"1\" class=\"dataframe\">\n",
       "  <thead>\n",
       "    <tr style=\"text-align: right;\">\n",
       "      <th><\/th>\n",
       "      <th>student_id<\/th>\n",
       "      <th>score_math<\/th>\n",
       "      <th>score_english<\/th>\n",
       "    <\/tr>\n",
       "  <\/thead>\n",
       "  <tbody>\n",
       "    <tr>\n",
       "      <th>count<\/th>\n",
       "      <td>100.000000<\/td>\n",
       "      <td>100.000000<\/td>\n",
       "      <td>100.000000<\/td>\n",
       "    <\/tr>\n",
       "    <tr>\n",
       "      <th>mean<\/th>\n",
       "      <td>50.500000<\/td>\n",
       "      <td>68.961535<\/td>\n",
       "      <td>65.267655<\/td>\n",
       "    <\/tr>\n",
       "    <tr>\n",
       "      <th>std<\/th>\n",
       "      <td>29.011492<\/td>\n",
       "      <td>9.081684<\/td>\n",
       "      <td>11.444028<\/td>\n",
       "    <\/tr>\n",
       "    <tr>\n",
       "      <th>min<\/th>\n",
       "      <td>1.000000<\/td>\n",
       "      <td>43.802549<\/td>\n",
       "      <td>41.974745<\/td>\n",
       "    <\/tr>\n",
       "    <tr>\n",
       "      <th>25%<\/th>\n",
       "      <td>25.750000<\/td>\n",
       "      <td>63.990943<\/td>\n",
       "      <td>55.332074<\/td>\n",
       "    <\/tr>\n",
       "    <tr>\n",
       "      <th>50%<\/th>\n",
       "      <td>50.500000<\/td>\n",
       "      <td>68.730437<\/td>\n",
       "      <td>66.009286<\/td>\n",
       "    <\/tr>\n",
       "    <tr>\n",
       "      <th>75%<\/th>\n",
       "      <td>75.250000<\/td>\n",
       "      <td>74.059521<\/td>\n",
       "      <td>71.458045<\/td>\n",
       "    <\/tr>\n",
       "    <tr>\n",
       "      <th>max<\/th>\n",
       "      <td>100.000000<\/td>\n",
       "      <td>88.522782<\/td>\n",
       "      <td>97.642030<\/td>\n",
       "    <\/tr>\n",
       "  <\/tbody>\n",
       "<\/table>\n",
       "<\/div>"
      ]
     },
     "metadata":{},
     "output_type":"display_data"
    }
   ],
   "metadata":{
    "datalore":{
     "node_id":"4YyHjMftnDTZJUnyOXdHe2",
     "type":"CODE",
     "hide_input_from_viewers":true,
     "hide_output_from_viewers":true
    }
   }
  },
  {
   "cell_type":"code",
   "source":[
    "#korelacja pomiędzy ocenami z przedmiotów\n",
    "corr = np.corrcoef(df[\"score_math\"],df[\"score_english\"])[0,1]\n",
    "print(f\"Korelacja (NumPy): {corr:.3f}\\n\")"
   ],
   "execution_count":9,
   "outputs":[
    {
     "name":"stdout",
     "text":[
      "Korelacja (NumPy): -0.136\n",
      "\n"
     ],
     "output_type":"stream"
    }
   ],
   "metadata":{
    "datalore":{
     "node_id":"2AunOLohLggB2xqV1NPPzg",
     "type":"CODE",
     "hide_input_from_viewers":true,
     "hide_output_from_viewers":true
    }
   }
  },
  {
   "cell_type":"code",
   "source":[
    "#Test T-studenta dla dwóch prób(czy wyniki z matmy i ang. różnią się istotnie?)\n",
    "t_stat,p_val = stats.ttest_rel(df[\"score_math\"],df[\"score_english\"])\n",
    "print(f\"Test t-Studenta (matma vs ang): t = {t_stat:.3f}, p={p_val:.4f}\")\n",
    "if p_val < 0.05:\n",
    "    print(\"różnica statystycznie istotna!\")\n",
    "else:\n",
    "    print(\"brak istotnej różnicy!\")"
   ],
   "execution_count":10,
   "outputs":[
    {
     "name":"stdout",
     "text":[
      "Test t-Studenta (matma vs ang): t = 2.375, p=0.0195\n",
      "różnica statystycznie istotna!\n"
     ],
     "output_type":"stream"
    }
   ],
   "metadata":{
    "datalore":{
     "node_id":"jN8JR7bIjcRKuedbIiWPYi",
     "type":"CODE",
     "hide_input_from_viewers":true,
     "hide_output_from_viewers":true
    }
   }
  },
  {
   "cell_type":"code",
   "source":[
    "plt.scatter(df[\"score_math\"],df[\"score_english\"],alpha=0.7)\n",
    "plt.title(\"Porównanie wyników: Matemetyka vs Angielski\")\n",
    "plt.xlabel(\"Wynik z matematyki\")\n",
    "plt.ylabel(\"Wynik z angielskiego\")\n",
    "plt.grid(True)\n",
    "plt.show()"
   ],
   "execution_count":11,
   "outputs":[
    {
     "data":{
      "image\/png":"[encoded data removed]"
     },
     "metadata":{
      "image\/png":{}
     },
     "output_type":"display_data"
    }
   ],
   "metadata":{
    "datalore":{
     "node_id":"wmK2Y7zaDp1SJG9UkTErdf",
     "type":"CODE",
     "hide_input_from_viewers":true,
     "hide_output_from_viewers":true
    }
   }
  }
 ],
 "metadata":{
  "kernelspec":{
   "display_name":"Python",
   "language":"python",
   "name":"python"
  },
  "datalore":{
   "computation_mode":"JUPYTER",
   "package_manager":"pip",
   "base_environment":"default_3_11",
   "packages":[],
   "report_row_ids":[],
   "report_tabs":[],
   "version":4
  }
 },
 "nbformat":4,
 "nbformat_minor":4
}